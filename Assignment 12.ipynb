{
  "nbformat": 4,
  "nbformat_minor": 0,
  "metadata": {
    "colab": {
      "name": "Untitled8.ipynb",
      "provenance": []
    },
    "kernelspec": {
      "name": "python3",
      "display_name": "Python 3"
    }
  },
  "cells": [
    {
      "cell_type": "markdown",
      "metadata": {
        "id": "Tsv6_knoHvUk",
        "colab_type": "text"
      },
      "source": [
        "# Assignment 12"
      ]
    },
    {
      "cell_type": "markdown",
      "metadata": {
        "id": "Qx-WlV0_H0bK",
        "colab_type": "text"
      },
      "source": [
        "## 1.sum all the items in a dictionary"
      ]
    },
    {
      "cell_type": "code",
      "metadata": {
        "id": "7rp9Abd2HzIT",
        "colab_type": "code",
        "colab": {
          "base_uri": "https://localhost:8080/",
          "height": 35
        },
        "outputId": "d95229da-8a4a-45a6-c3da-7df5894766fc"
      },
      "source": [
        "def Sum(myDict): \n",
        "      \n",
        "    sum = 0\n",
        "    for i in myDict: \n",
        "        sum+= myDict[i] \n",
        "    return sum\n",
        "dict = {'a': 100, 'b':200, 'c':300} \n",
        "print(\"Sum :\",Sum(dict)) "
      ],
      "execution_count": 1,
      "outputs": [
        {
          "output_type": "stream",
          "text": [
            "Sum : 600\n"
          ],
          "name": "stdout"
        }
      ]
    },
    {
      "cell_type": "markdown",
      "metadata": {
        "id": "OlzZzfclI5EM",
        "colab_type": "text"
      },
      "source": [
        "## 2.Accessing an elements from a dictionary"
      ]
    },
    {
      "cell_type": "code",
      "metadata": {
        "id": "VsiozEKKIyAP",
        "colab_type": "code",
        "colab": {
          "base_uri": "https://localhost:8080/",
          "height": 108
        },
        "outputId": "bf25b345-668b-4642-b59e-e97933e08ee3"
      },
      "source": [
        "d={'a':2,'b':4,'c':5,'d':8,'e':9}\n",
        "print(d['c'])\n",
        "print(d)\n",
        "d['e']=4\n",
        "print(d)\n",
        "print(d.pop('d'))\n",
        "print(d)"
      ],
      "execution_count": 4,
      "outputs": [
        {
          "output_type": "stream",
          "text": [
            "5\n",
            "{'a': 2, 'b': 4, 'c': 5, 'd': 8, 'e': 9}\n",
            "{'a': 2, 'b': 4, 'c': 5, 'd': 8, 'e': 4}\n",
            "8\n",
            "{'a': 2, 'b': 4, 'c': 5, 'e': 4}\n"
          ],
          "name": "stdout"
        }
      ]
    },
    {
      "cell_type": "markdown",
      "metadata": {
        "id": "mVafsN7mKSL_",
        "colab_type": "text"
      },
      "source": [
        "## 3.Concate two dictionaries"
      ]
    },
    {
      "cell_type": "code",
      "metadata": {
        "id": "uZ1b-mGnJvir",
        "colab_type": "code",
        "colab": {
          "base_uri": "https://localhost:8080/",
          "height": 54
        },
        "outputId": "e9f09fdc-fccb-411e-c18f-ab8e449e816d"
      },
      "source": [
        "d1={'a':2,'b':4}\n",
        "d2={'c':5,'d':8,'e':9}\n",
        "d1.update(d2)\n",
        "print(\"Concatenated dictionary is:\")\n",
        "print(d1)"
      ],
      "execution_count": 6,
      "outputs": [
        {
          "output_type": "stream",
          "text": [
            "Concatenated dictionary is:\n",
            "{'a': 2, 'b': 4, 'c': 5, 'd': 8, 'e': 9}\n"
          ],
          "name": "stdout"
        }
      ]
    },
    {
      "cell_type": "markdown",
      "metadata": {
        "id": "q8uabcg-aUqW",
        "colab_type": "text"
      },
      "source": [
        "## 4.Add keys/values in a dictionary"
      ]
    },
    {
      "cell_type": "code",
      "metadata": {
        "id": "FLzaV3ByadIs",
        "colab_type": "code",
        "colab": {
          "base_uri": "https://localhost:8080/",
          "height": 54
        },
        "outputId": "d823499e-446c-4990-f6b1-2d4910a3108b"
      },
      "source": [
        "print(d)\n",
        "d['g']=0\n",
        "d['r']='a'\n",
        "print(d)"
      ],
      "execution_count": 8,
      "outputs": [
        {
          "output_type": "stream",
          "text": [
            "{'a': 2, 'b': 4, 'c': 5, 'e': 4}\n",
            "{'a': 2, 'b': 4, 'c': 5, 'e': 4, 'g': 0, 'r': 'a'}\n"
          ],
          "name": "stdout"
        }
      ]
    },
    {
      "cell_type": "markdown",
      "metadata": {
        "id": "QLc4clPdYR_V",
        "colab_type": "text"
      },
      "source": [
        "## 5.The length of the dictionary"
      ]
    },
    {
      "cell_type": "code",
      "metadata": {
        "id": "HUm9gYlTUxEV",
        "colab_type": "code",
        "colab": {
          "base_uri": "https://localhost:8080/",
          "height": 35
        },
        "outputId": "acba28b3-9125-440d-9293-b1a0de65d058"
      },
      "source": [
        "print(len(d))"
      ],
      "execution_count": 7,
      "outputs": [
        {
          "output_type": "stream",
          "text": [
            "4\n"
          ],
          "name": "stdout"
        }
      ]
    },
    {
      "cell_type": "markdown",
      "metadata": {
        "id": "HGQj7vtyaIOg",
        "colab_type": "text"
      },
      "source": [
        "## 6.Remove items in the dictionary"
      ]
    },
    {
      "cell_type": "code",
      "metadata": {
        "id": "2Ea69tKUaEIa",
        "colab_type": "code",
        "colab": {
          "base_uri": "https://localhost:8080/",
          "height": 54
        },
        "outputId": "4c53ea93-643a-4cec-c6fe-f6f0e2d08613"
      },
      "source": [
        "print(d)\n",
        "d.pop('g')\n",
        "print(d)"
      ],
      "execution_count": 9,
      "outputs": [
        {
          "output_type": "stream",
          "text": [
            "{'a': 2, 'b': 4, 'c': 5, 'e': 4, 'g': 0, 'r': 'a'}\n",
            "{'a': 2, 'b': 4, 'c': 5, 'e': 4, 'r': 'a'}\n"
          ],
          "name": "stdout"
        }
      ]
    }
  ]
}