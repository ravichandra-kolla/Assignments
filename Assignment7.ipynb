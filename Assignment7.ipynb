{
  "nbformat": 4,
  "nbformat_minor": 0,
  "metadata": {
    "colab": {
      "name": "Untitled5.ipynb",
      "provenance": [],
      "collapsed_sections": []
    },
    "kernelspec": {
      "name": "python3",
      "display_name": "Python 3"
    }
  },
  "cells": [
    {
      "cell_type": "markdown",
      "metadata": {
        "id": "LtR049DRMG_8",
        "colab_type": "text"
      },
      "source": [
        "# Assignment7"
      ]
    },
    {
      "cell_type": "markdown",
      "metadata": {
        "id": "iB_pVgsaMMKb",
        "colab_type": "text"
      },
      "source": [
        "## 1.Sum of n natural naumbers"
      ]
    },
    {
      "cell_type": "code",
      "metadata": {
        "id": "rbdbPZynMK60",
        "colab_type": "code",
        "colab": {
          "base_uri": "https://localhost:8080/",
          "height": 54
        },
        "outputId": "2fab87cb-862e-4ca7-b716-5fbf9972f2f9"
      },
      "source": [
        "n=int(input('enter no of elements'))\n",
        "sum=0\n",
        "for i in range(n+1):\n",
        "  sum+=i\n",
        "print(sum)"
      ],
      "execution_count": 1,
      "outputs": [
        {
          "output_type": "stream",
          "text": [
            "enter no of elements5\n",
            "15\n"
          ],
          "name": "stdout"
        }
      ]
    },
    {
      "cell_type": "markdown",
      "metadata": {
        "id": "r8xG0yvLRMUS",
        "colab_type": "text"
      },
      "source": [
        "## 2.Even and Odd numbers in series"
      ]
    },
    {
      "cell_type": "code",
      "metadata": {
        "id": "PQ9IMi4BMuCQ",
        "colab_type": "code",
        "colab": {
          "base_uri": "https://localhost:8080/",
          "height": 72
        },
        "outputId": "e4be6b9a-8f0c-4151-ec6c-16428964a289"
      },
      "source": [
        "y=set(input('enter the list elements').split())\n",
        "l=[]\n",
        "m=[]\n",
        "for i in y:\n",
        "  if int(i)%2==0:\n",
        "    l.append(int(i))\n",
        "  else:\n",
        "    m.append(int(i))\n",
        "print(len(l),'the even list is ',l)\n",
        "print(len(m),'the odd list is',m)"
      ],
      "execution_count": 11,
      "outputs": [
        {
          "output_type": "stream",
          "text": [
            "enter the list elements6 4 2 6 4 3 1 8\n",
            "4 the even list is  [2, 6, 8, 4]\n",
            "2 the odd list is [3, 1]\n"
          ],
          "name": "stdout"
        }
      ]
    },
    {
      "cell_type": "markdown",
      "metadata": {
        "id": "AEE2zQgKXfPc",
        "colab_type": "text"
      },
      "source": [
        "## 3.Printing numbers"
      ]
    },
    {
      "cell_type": "code",
      "metadata": {
        "id": "DRFNxzLPUN2y",
        "colab_type": "code",
        "colab": {
          "base_uri": "https://localhost:8080/",
          "height": 90
        },
        "outputId": "391d9709-145a-4dbb-9166-2855fc731038"
      },
      "source": [
        "for i in range(0,7):\n",
        "  if i%3==0:\n",
        "    continue\n",
        "  else:\n",
        "    print (i)"
      ],
      "execution_count": 13,
      "outputs": [
        {
          "output_type": "stream",
          "text": [
            "1\n",
            "2\n",
            "4\n",
            "5\n"
          ],
          "name": "stdout"
        }
      ]
    },
    {
      "cell_type": "markdown",
      "metadata": {
        "id": "1dJldO_fYDyp",
        "colab_type": "text"
      },
      "source": [
        "## 4.squares of the numbers in list"
      ]
    },
    {
      "cell_type": "code",
      "metadata": {
        "id": "IO9krD7RXw_H",
        "colab_type": "code",
        "colab": {
          "base_uri": "https://localhost:8080/",
          "height": 54
        },
        "outputId": "beb36ed2-bb61-4a7e-87a4-c6cc09abdfb4"
      },
      "source": [
        "x=input('enter the list numbers').split()\n",
        "l=[]\n",
        "for i in x:\n",
        "  l.append(int(int(i)**2))\n",
        "print(l)"
      ],
      "execution_count": 15,
      "outputs": [
        {
          "output_type": "stream",
          "text": [
            "enter the list numbers7 3 4 2 1\n",
            "[49, 9, 16, 4, 1]\n"
          ],
          "name": "stdout"
        }
      ]
    },
    {
      "cell_type": "markdown",
      "metadata": {
        "id": "RkbWYzQdZHAw",
        "colab_type": "text"
      },
      "source": [
        "## 5.Sum and average of n integers "
      ]
    },
    {
      "cell_type": "code",
      "metadata": {
        "id": "PPPQ9CtiY0q3",
        "colab_type": "code",
        "colab": {
          "base_uri": "https://localhost:8080/",
          "height": 54
        },
        "outputId": "c246596e-7b0e-41bd-9aef-94c8901f61e3"
      },
      "source": [
        "n=int(input('enter the number of integers'))\n",
        "sum=0\n",
        "for i in range(n+1):\n",
        "  sum+=i\n",
        "print(f'sum: {sum} and average is {sum/n}')"
      ],
      "execution_count": 16,
      "outputs": [
        {
          "output_type": "stream",
          "text": [
            "enter the number of integers5\n",
            "sum: 15 and average is 3.0\n"
          ],
          "name": "stdout"
        }
      ]
    },
    {
      "cell_type": "markdown",
      "metadata": {
        "id": "Ne7nPgLdaQfk",
        "colab_type": "text"
      },
      "source": [
        "### 6.Reverse a give number"
      ]
    },
    {
      "cell_type": "code",
      "metadata": {
        "id": "LzQi5JIjaMrl",
        "colab_type": "code",
        "colab": {
          "base_uri": "https://localhost:8080/",
          "height": 54
        },
        "outputId": "12dad06c-cb55-4838-952d-08ed25125766"
      },
      "source": [
        "n=input('enter a number with spaces between each digit').split( )\n",
        "a=n[ : :-1]\n",
        "b=''.join(a)\n",
        "print(b)"
      ],
      "execution_count": 29,
      "outputs": [
        {
          "output_type": "stream",
          "text": [
            "enter a number with spaces between each digit5 3 4 2 3\n",
            "32435\n"
          ],
          "name": "stdout"
        }
      ]
    },
    {
      "cell_type": "code",
      "metadata": {
        "id": "UBHUbnc2a4PW",
        "colab_type": "code",
        "colab": {}
      },
      "source": [
        ""
      ],
      "execution_count": null,
      "outputs": []
    },
    {
      "cell_type": "markdown",
      "metadata": {
        "id": "HG3oBsnpeiJO",
        "colab_type": "text"
      },
      "source": [
        "## 7.Print odd numbers"
      ]
    },
    {
      "cell_type": "code",
      "metadata": {
        "id": "2ZpvhZGIetpJ",
        "colab_type": "code",
        "colab": {
          "base_uri": "https://localhost:8080/",
          "height": 54
        },
        "outputId": "72f97a70-b097-446d-d19a-0589cd88e3f7"
      },
      "source": [
        "n=int(input('enter the range'))\n",
        "l=[]\n",
        "for i in range(1,n+1):\n",
        "  if i%2!=0:\n",
        "    l.append(i)\n",
        "  else:\n",
        "    pass\n",
        "print(l)\n"
      ],
      "execution_count": 30,
      "outputs": [
        {
          "output_type": "stream",
          "text": [
            "enter the range6\n",
            "[1, 3, 5]\n"
          ],
          "name": "stdout"
        }
      ]
    },
    {
      "cell_type": "markdown",
      "metadata": {
        "id": "gSdoyjOyfbGu",
        "colab_type": "text"
      },
      "source": [
        "## 8.Count no of digits in number"
      ]
    },
    {
      "cell_type": "code",
      "metadata": {
        "id": "W4Xq7ekFfX18",
        "colab_type": "code",
        "colab": {
          "base_uri": "https://localhost:8080/",
          "height": 54
        },
        "outputId": "71c5c563-9d48-4293-8adf-abe1cbd40bcc"
      },
      "source": [
        "n=int(input('enter the number'))\n",
        "count=0\n",
        "while n>0:\n",
        "  n=n//10\n",
        "  count+=1\n",
        "print(count)"
      ],
      "execution_count": 31,
      "outputs": [
        {
          "output_type": "stream",
          "text": [
            "enter the number453672\n",
            "6\n"
          ],
          "name": "stdout"
        }
      ]
    },
    {
      "cell_type": "markdown",
      "metadata": {
        "id": "1ooi47PCg14Q",
        "colab_type": "text"
      },
      "source": [
        "## 9.Check number is palindrome"
      ]
    },
    {
      "cell_type": "code",
      "metadata": {
        "id": "cR-O-JaZgwg0",
        "colab_type": "code",
        "colab": {
          "base_uri": "https://localhost:8080/",
          "height": 54
        },
        "outputId": "e5bcde57-a108-4e05-8cfe-a13fb867194d"
      },
      "source": [
        "n=int(input('enter the number'))\n",
        "temp=n\n",
        "rev=0\n",
        "while(n>0):\n",
        "  dig=n%10\n",
        "  rev=rev*10+dig\n",
        "  n=n//10\n",
        "if(temp==rev):\n",
        "    print(\"The number is a palindrome!\")\n",
        "else:\n",
        "    print(\"The number isn't a palindrome!\")\n"
      ],
      "execution_count": 36,
      "outputs": [
        {
          "output_type": "stream",
          "text": [
            "enter the number87655678\n",
            "The number is a palindrome!\n"
          ],
          "name": "stdout"
        }
      ]
    },
    {
      "cell_type": "markdown",
      "metadata": {
        "id": "8l4gV3cglg4Y",
        "colab_type": "text"
      },
      "source": [
        "## 10.To print an Identity matrix"
      ]
    },
    {
      "cell_type": "code",
      "metadata": {
        "id": "wfXcvdflhNre",
        "colab_type": "code",
        "colab": {
          "base_uri": "https://localhost:8080/",
          "height": 90
        },
        "outputId": "f23ed3ed-7d8e-435e-fd3d-855fac4fad6d"
      },
      "source": [
        "n=int(input('enter the matrix number'))\n",
        "for i in range(0,n):\n",
        "  for j in range(0,n):\n",
        "    if i==j:\n",
        "      print(\"1\",sep=\" \",end=\" \")\n",
        "    else:\n",
        "     print(\"0\",sep=\" \",end=\" \")\n",
        "  print()"
      ],
      "execution_count": 41,
      "outputs": [
        {
          "output_type": "stream",
          "text": [
            "enter the matrix number3\n",
            "1 0 0 \n",
            "0 1 0 \n",
            "0 0 1 \n"
          ],
          "name": "stdout"
        }
      ]
    },
    {
      "cell_type": "markdown",
      "metadata": {
        "id": "hiLkNmIclegN",
        "colab_type": "text"
      },
      "source": [
        "## 11.Check the number is perfect or not"
      ]
    },
    {
      "cell_type": "code",
      "metadata": {
        "id": "EmXDzNwjnsL2",
        "colab_type": "code",
        "colab": {
          "base_uri": "https://localhost:8080/",
          "height": 54
        },
        "outputId": "650bf0d4-47a0-4d49-cf62-62885dfcf8c6"
      },
      "source": [
        "n = int(input(\"Enter any number: \"))\n",
        "sum = 0\n",
        "for i in range(1, n):\n",
        "  if(n % i == 0):\n",
        "    sum += i\n",
        "if (sum == n):\n",
        "  print(\"The number is a Perfect number \")\n",
        "else:\n",
        "  print(\"The number is not a Perfect number \")"
      ],
      "execution_count": 42,
      "outputs": [
        {
          "output_type": "stream",
          "text": [
            "Enter any number: 3\n",
            "The number is not a Perfect number \n"
          ],
          "name": "stdout"
        }
      ]
    }
  ]
}