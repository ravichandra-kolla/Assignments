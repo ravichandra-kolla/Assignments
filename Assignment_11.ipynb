{
  "nbformat": 4,
  "nbformat_minor": 0,
  "metadata": {
    "colab": {
      "name": "Assignment 11",
      "provenance": []
    },
    "kernelspec": {
      "name": "python3",
      "display_name": "Python 3"
    }
  },
  "cells": [
    {
      "cell_type": "markdown",
      "metadata": {
        "id": "wyEX7J01-DR4",
        "colab_type": "text"
      },
      "source": [
        "# Assignment11"
      ]
    },
    {
      "cell_type": "markdown",
      "metadata": {
        "id": "Ng8hANtj-Z8d",
        "colab_type": "text"
      },
      "source": [
        "## 1.Finding largest and smallest numbers in list"
      ]
    },
    {
      "cell_type": "code",
      "metadata": {
        "id": "uqk4HJMx-VaU",
        "colab_type": "code",
        "colab": {
          "base_uri": "https://localhost:8080/",
          "height": 72
        },
        "outputId": "89777e1a-3b46-4e4d-b4c1-e5f2d08e1e13"
      },
      "source": [
        "l=sorted(input('enter the list'),reverse=False)\n",
        "print(l)\n",
        "print(l[0],'is an smallest number and the largest number is ',l[-1])"
      ],
      "execution_count": 9,
      "outputs": [
        {
          "output_type": "stream",
          "text": [
            "enter the list6321734\n",
            "['1', '2', '3', '3', '4', '6', '7']\n",
            "1 is an smallest number and the largest number is  7\n"
          ],
          "name": "stdout"
        }
      ]
    },
    {
      "cell_type": "markdown",
      "metadata": {
        "id": "rgsUTMVGAs_D",
        "colab_type": "text"
      },
      "source": [
        "## 2.Check a list is empty or not"
      ]
    },
    {
      "cell_type": "code",
      "metadata": {
        "id": "72GccVQg_Dmf",
        "colab_type": "code",
        "colab": {
          "base_uri": "https://localhost:8080/",
          "height": 54
        },
        "outputId": "96850e58-2965-4f6c-c804-13b824c5dd87"
      },
      "source": [
        "l=input('enter the list elements')\n",
        "if len(l)==0:\n",
        "  print('the list is empty')\n",
        "else:\n",
        "  print('the list contains some elements ')"
      ],
      "execution_count": 10,
      "outputs": [
        {
          "output_type": "stream",
          "text": [
            "enter the list elements\n",
            "the list is empty\n"
          ],
          "name": "stdout"
        }
      ]
    },
    {
      "cell_type": "markdown",
      "metadata": {
        "id": "to4m_ZwCBrnl",
        "colab_type": "text"
      },
      "source": [
        "## 3.To clone or copy the list"
      ]
    },
    {
      "cell_type": "code",
      "metadata": {
        "id": "KdbY2WrwBnpg",
        "colab_type": "code",
        "colab": {
          "base_uri": "https://localhost:8080/",
          "height": 90
        },
        "outputId": "ba2dbcd3-85ef-4342-b4b1-51514e568b95"
      },
      "source": [
        "a=list(input('enter the list elements'))\n",
        "b=a    #b=a.copy()\n",
        "print(b)\n",
        "a.append('h')\n",
        "print(b)\n",
        "print(a)"
      ],
      "execution_count": 17,
      "outputs": [
        {
          "output_type": "stream",
          "text": [
            "enter the list elements829233992\n",
            "['8', '2', '9', '2', '3', '3', '9', '9', '2']\n",
            "['8', '2', '9', '2', '3', '3', '9', '9', '2', 'h']\n",
            "['8', '2', '9', '2', '3', '3', '9', '9', '2', 'h']\n"
          ],
          "name": "stdout"
        }
      ]
    },
    {
      "cell_type": "markdown",
      "metadata": {
        "id": "a1DGhiZBEGbV",
        "colab_type": "text"
      },
      "source": [
        "## 4.Removing even numbers from a list"
      ]
    },
    {
      "cell_type": "code",
      "metadata": {
        "id": "Ld11ayqaCVjD",
        "colab_type": "code",
        "colab": {
          "base_uri": "https://localhost:8080/",
          "height": 54
        },
        "outputId": "353acb8b-c904-4d6c-f71d-a62ad90519f4"
      },
      "source": [
        "l=list(input('enter the elements of the list'))\n",
        "for i in l:\n",
        "  if int(i)%2==0:\n",
        "    l.remove(i)\n",
        "  else:\n",
        "    pass\n",
        "print(l)"
      ],
      "execution_count": 21,
      "outputs": [
        {
          "output_type": "stream",
          "text": [
            "enter the elements of the list23415678\n",
            "['3', '1', '5', '7']\n"
          ],
          "name": "stdout"
        }
      ]
    },
    {
      "cell_type": "markdown",
      "metadata": {
        "id": "5uO-AhxyGU1R",
        "colab_type": "text"
      },
      "source": [
        "## 5.Copy the contents of a file to another file"
      ]
    },
    {
      "cell_type": "code",
      "metadata": {
        "id": "kqzx1fhBFEzs",
        "colab_type": "code",
        "colab": {}
      },
      "source": [
        "import shutil\n",
        "path= 'C:\\\\Users\\\\siva krishna\\\\Documents\\\\example1.txt'\n",
        "target = 'C:\\\\Users\\\\siva krishna\\\\Documents\\\\example2.txt'\n",
        "shutil(path,target)\n",
        "f=open('example2.txt')\n",
        "a=f.read()\n",
        "print(a)\n"
      ],
      "execution_count": null,
      "outputs": []
    },
    {
      "cell_type": "markdown",
      "metadata": {
        "id": "CbRzuQTNNgJd",
        "colab_type": "text"
      },
      "source": [
        "## 6.sum of all the items in a list"
      ]
    },
    {
      "cell_type": "code",
      "metadata": {
        "id": "24WRB4Y9NpCu",
        "colab_type": "code",
        "colab": {
          "base_uri": "https://localhost:8080/",
          "height": 54
        },
        "outputId": "188d7b71-aa82-4253-a439-50bfef430564"
      },
      "source": [
        "l=list(input('enter the list elements'))\n",
        "sum=0\n",
        "for i in l:\n",
        "  sum+=int(i)\n",
        "print(sum)"
      ],
      "execution_count": 22,
      "outputs": [
        {
          "output_type": "stream",
          "text": [
            "enter the list elements3726349\n",
            "34\n"
          ],
          "name": "stdout"
        }
      ]
    }
  ]
}