{
  "nbformat": 4,
  "nbformat_minor": 0,
  "metadata": {
    "colab": {
      "name": "Assignment 8",
      "provenance": []
    },
    "kernelspec": {
      "name": "python3",
      "display_name": "Python 3"
    }
  },
  "cells": [
    {
      "cell_type": "markdown",
      "metadata": {
        "id": "dqUZ5YAHaOqG",
        "colab_type": "text"
      },
      "source": [
        " # Assignment 8"
      ]
    },
    {
      "cell_type": "markdown",
      "metadata": {
        "id": "Wxt9ZSVpaTfA",
        "colab_type": "text"
      },
      "source": [
        "## 1.length of the string"
      ]
    },
    {
      "cell_type": "code",
      "metadata": {
        "id": "xxMYihyWaYiq",
        "colab_type": "code",
        "colab": {
          "base_uri": "https://localhost:8080/",
          "height": 51
        },
        "outputId": "de3028d1-33b3-4066-dac9-3959b7a88416"
      },
      "source": [
        "a=input('enter the string')\n",
        "c=0\n",
        "for i in a:\n",
        "  c+=1\n",
        "print(c)"
      ],
      "execution_count": null,
      "outputs": [
        {
          "output_type": "stream",
          "text": [
            "enter the stringRavi\n",
            "4\n"
          ],
          "name": "stdout"
        }
      ]
    },
    {
      "cell_type": "markdown",
      "metadata": {
        "id": "SS8jFH15a-wF",
        "colab_type": "text"
      },
      "source": [
        "## 2.count of the character of the string"
      ]
    },
    {
      "cell_type": "code",
      "metadata": {
        "id": "UgaFAmyva_ns",
        "colab_type": "code",
        "colab": {
          "base_uri": "https://localhost:8080/",
          "height": 54
        },
        "outputId": "a292da23-149b-44d1-b807-40021b66f1ed"
      },
      "source": [
        "a=input('enter the string')\n",
        "n=a.split()\n",
        "c=0\n",
        "for i in n:\n",
        "  for j in i:\n",
        "    c+=1\n",
        "print(c)"
      ],
      "execution_count": 33,
      "outputs": [
        {
          "output_type": "stream",
          "text": [
            "enter the stringwrite your name here\n",
            "17\n"
          ],
          "name": "stdout"
        }
      ]
    },
    {
      "cell_type": "markdown",
      "metadata": {
        "id": "HkfHcVRvbAMv",
        "colab_type": "text"
      },
      "source": [
        "## 3.No of 'o' in given string"
      ]
    },
    {
      "cell_type": "code",
      "metadata": {
        "id": "Jp4ZBt4EbJD5",
        "colab_type": "code",
        "colab": {
          "base_uri": "https://localhost:8080/",
          "height": 34
        },
        "outputId": "6fa874d0-8744-4e71-97c2-ba3de7be625f"
      },
      "source": [
        " \n",
        "n='hello world'\n",
        "c=0\n",
        "for i in n:\n",
        "    if i=='o':\n",
        "        c+=1\n",
        "print(c)"
      ],
      "execution_count": null,
      "outputs": [
        {
          "output_type": "stream",
          "text": [
            "2\n"
          ],
          "name": "stdout"
        }
      ]
    },
    {
      "cell_type": "markdown",
      "metadata": {
        "id": "xMMaPC9JbNj8",
        "colab_type": "text"
      },
      "source": [
        "## 4.Script in upper and lower case"
      ]
    },
    {
      "cell_type": "code",
      "metadata": {
        "id": "4OfQg9vbitFr",
        "colab_type": "code",
        "colab": {
          "base_uri": "https://localhost:8080/",
          "height": 72
        },
        "outputId": "5ca712af-f148-4565-b764-750396dea8e8"
      },
      "source": [
        "a=input('enter the script')\n",
        "u=a.upper()\n",
        "l=a.lower()\n",
        "print('the upper case of the script is: ',u)\n",
        "print('the lower case of the script is: ',l)"
      ],
      "execution_count": 8,
      "outputs": [
        {
          "output_type": "stream",
          "text": [
            "enter the scriptthere is an Apple\n",
            "the upper case of the script is:  THERE IS AN APPLE\n",
            "the lower case of the script is:  there is an apple\n"
          ],
          "name": "stdout"
        }
      ]
    },
    {
      "cell_type": "markdown",
      "metadata": {
        "id": "RkDhJMzXjZ4c",
        "colab_type": "text"
      },
      "source": [
        "## 5.Substrings in a String"
      ]
    },
    {
      "cell_type": "code",
      "metadata": {
        "id": "fba_AHevi8Ab",
        "colab_type": "code",
        "colab": {
          "base_uri": "https://localhost:8080/",
          "height": 54
        },
        "outputId": "9ed2fb06-b606-4f6f-eaae-a3e33cbaec09"
      },
      "source": [
        "a=input('enter the string')\n",
        "n=a.split()\n",
        "print('the substrings of the string is: ',n)"
      ],
      "execution_count": 9,
      "outputs": [
        {
          "output_type": "stream",
          "text": [
            "enter the stringthey are boys\n",
            "the substrings of the string is:  ['they', 'are', 'boys']\n"
          ],
          "name": "stdout"
        }
      ]
    },
    {
      "cell_type": "markdown",
      "metadata": {
        "id": "JXU7-hQ8kITr",
        "colab_type": "text"
      },
      "source": [
        "## 6.Comparing two strings"
      ]
    },
    {
      "cell_type": "code",
      "metadata": {
        "id": "ZRkpQmuPkC7Y",
        "colab_type": "code",
        "colab": {
          "base_uri": "https://localhost:8080/",
          "height": 217
        },
        "outputId": "d28cbe49-8819-41c8-8bbf-2a643a0a6f52"
      },
      "source": [
        "a=input('enter the string')\n",
        "n=a.split()\n",
        "for i in n:\n",
        "  if i=='book':\n",
        "    print(i,' :is present in the given string')\n",
        "  elif(i<'book'):\n",
        "    print(i,' :word is smaller than the apple')\n",
        "  else:\n",
        "    print(i,' :word is greater than the apple')\n"
      ],
      "execution_count": 13,
      "outputs": [
        {
          "output_type": "stream",
          "text": [
            "enter the stringboth the book and apple are present on the table\n",
            "both  :word is greater than the apple\n",
            "the  :word is greater than the apple\n",
            "book  :is present in the given string\n",
            "and  :word is smaller than the apple\n",
            "apple  :word is smaller than the apple\n",
            "are  :word is smaller than the apple\n",
            "present  :word is greater than the apple\n",
            "on  :word is greater than the apple\n",
            "the  :word is greater than the apple\n",
            "table  :word is greater than the apple\n"
          ],
          "name": "stdout"
        }
      ]
    },
    {
      "cell_type": "markdown",
      "metadata": {
        "id": "G39Vg8FKn4g9",
        "colab_type": "text"
      },
      "source": [
        "## 7.Deletion of a character"
      ]
    },
    {
      "cell_type": "code",
      "metadata": {
        "id": "0xC1hdaMl3kX",
        "colab_type": "code",
        "colab": {
          "base_uri": "https://localhost:8080/",
          "height": 54
        },
        "outputId": "b106a021-3d1a-4eea-fea2-950fc880cf33"
      },
      "source": [
        "a=input('enter the string')\n",
        "print(a.replace('s',''))"
      ],
      "execution_count": 32,
      "outputs": [
        {
          "output_type": "stream",
          "text": [
            "enter the stringenglish\n",
            "englih\n"
          ],
          "name": "stdout"
        }
      ]
    },
    {
      "cell_type": "markdown",
      "metadata": {
        "id": "rM3rzWvospKJ",
        "colab_type": "text"
      },
      "source": [
        "## 8.printing characters in a string"
      ]
    },
    {
      "cell_type": "code",
      "metadata": {
        "id": "6c-7spEbpBM4",
        "colab_type": "code",
        "colab": {
          "base_uri": "https://localhost:8080/",
          "height": 272
        },
        "outputId": "9f7e7b4f-9f4e-4d78-dd22-860eca435131"
      },
      "source": [
        "a=input('enter the string')\n",
        "n=a.split()\n",
        "for i in n:\n",
        "  for j in i:\n",
        "    print(j,'is the character in ',i)\n"
      ],
      "execution_count": 24,
      "outputs": [
        {
          "output_type": "stream",
          "text": [
            "enter the stringthere is a apple\n",
            "t is the character in  there\n",
            "h is the character in  there\n",
            "e is the character in  there\n",
            "r is the character in  there\n",
            "e is the character in  there\n",
            "i is the character in  is\n",
            "s is the character in  is\n",
            "a is the character in  a\n",
            "a is the character in  apple\n",
            "p is the character in  apple\n",
            "p is the character in  apple\n",
            "l is the character in  apple\n",
            "e is the character in  apple\n"
          ],
          "name": "stdout"
        }
      ]
    },
    {
      "cell_type": "markdown",
      "metadata": {
        "id": "HQ3WxmSzttKI",
        "colab_type": "text"
      },
      "source": [
        "## 9.length of the string without len function"
      ]
    },
    {
      "cell_type": "code",
      "metadata": {
        "id": "OM-r2tXItTCg",
        "colab_type": "code",
        "colab": {
          "base_uri": "https://localhost:8080/",
          "height": 35
        },
        "outputId": "257e847d-9e10-4446-85ed-d00bfadd36c2"
      },
      "source": [
        "a='refrigerator'\n",
        "c=0\n",
        "for i in a:\n",
        "  c+=1\n",
        "print(c)"
      ],
      "execution_count": 25,
      "outputs": [
        {
          "output_type": "stream",
          "text": [
            "12\n"
          ],
          "name": "stdout"
        }
      ]
    },
    {
      "cell_type": "markdown",
      "metadata": {
        "id": "oNQUcP0HwZS-",
        "colab_type": "text"
      },
      "source": [
        "## 10.Substrings are present in string or not"
      ]
    },
    {
      "cell_type": "code",
      "metadata": {
        "id": "Mo4JEOsiuEZ5",
        "colab_type": "code",
        "colab": {
          "base_uri": "https://localhost:8080/",
          "height": 54
        },
        "outputId": "238c6392-d804-4ffe-afe6-2e0ab2454015"
      },
      "source": [
        "a=input('enter the string')\n",
        "n=a.split()\n",
        "c=0\n",
        "for i in n:\n",
        "  if len(i)==1:\n",
        "    c+=1\n",
        "  else:\n",
        "    pass\n",
        "if c in [0,1,2]:\n",
        "  print('the string contains substrings')\n",
        "else:\n",
        "  print('the string does not have substrings')"
      ],
      "execution_count": 26,
      "outputs": [
        {
          "output_type": "stream",
          "text": [
            "enter the stringthere is a apple in the tree\n",
            "the string contains substrings\n"
          ],
          "name": "stdout"
        }
      ]
    },
    {
      "cell_type": "code",
      "metadata": {
        "id": "vK3tyu9KwPq9",
        "colab_type": "code",
        "colab": {}
      },
      "source": [
        ""
      ],
      "execution_count": 28,
      "outputs": []
    },
    {
      "cell_type": "code",
      "metadata": {
        "id": "NO1s2syRwzF_",
        "colab_type": "code",
        "colab": {}
      },
      "source": [
        ""
      ],
      "execution_count": null,
      "outputs": []
    }
  ]
}