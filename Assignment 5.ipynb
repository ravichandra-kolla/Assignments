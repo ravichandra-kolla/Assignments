{
 "cells": [
  {
   "cell_type": "markdown",
   "metadata": {},
   "source": [
    "# Assignment 5"
   ]
  },
  {
   "cell_type": "markdown",
   "metadata": {},
   "source": [
    "## 1.Area of the circle"
   ]
  },
  {
   "cell_type": "code",
   "execution_count": 2,
   "metadata": {},
   "outputs": [
    {
     "name": "stdout",
     "output_type": "stream",
     "text": [
      "the radius of the circle5\n",
      "area of the circle is 78.53981633974483\n"
     ]
    }
   ],
   "source": [
    "import math\n",
    "r=int(input('the radius of the circle'))\n",
    "area=math.pi*(r**2)\n",
    "print(f'area of the circle is {area}')\n"
   ]
  },
  {
   "cell_type": "markdown",
   "metadata": {},
   "source": [
    "## 2.Area of the regular polygon"
   ]
  },
  {
   "cell_type": "code",
   "execution_count": 3,
   "metadata": {},
   "outputs": [
    {
     "name": "stdout",
     "output_type": "stream",
     "text": [
      "Enter the length of the tangent between center to the any side7\n",
      "No of side in the polygon3\n",
      "Enter the length of the side2\n",
      "The area of the polygon is 21.0\n"
     ]
    }
   ],
   "source": [
    "a=int(input('Enter the length of the tangent between center to the any side'))\n",
    "n=int(input('No of side in the polygon'))\n",
    "s=int(input('Enter the length of the side'))\n",
    "area=(n*s*a)/2\n",
    "print(f'The area of the polygon is {area}')"
   ]
  },
  {
   "cell_type": "markdown",
   "metadata": {},
   "source": [
    "## 3.Random number"
   ]
  },
  {
   "cell_type": "code",
   "execution_count": 4,
   "metadata": {},
   "outputs": [
    {
     "name": "stdout",
     "output_type": "stream",
     "text": [
      "780\n",
      "135.95055068347418\n"
     ]
    }
   ],
   "source": [
    "import random\n",
    "print(random.randint(1,1000))\n",
    "print(random.uniform(a=1,b=1000))"
   ]
  },
  {
   "cell_type": "markdown",
   "metadata": {},
   "source": [
    "## 4.Using math module"
   ]
  },
  {
   "cell_type": "code",
   "execution_count": 5,
   "metadata": {},
   "outputs": [
    {
     "name": "stdout",
     "output_type": "stream",
     "text": [
      "0.866\n",
      "0.0\n",
      "1.633123935319537e+16\n",
      "390625.0\n",
      "20.0\n",
      "23\n",
      "24\n"
     ]
    }
   ],
   "source": [
    "import math\n",
    "print (round(math.sin(math.radians(60)),3))\n",
    "print (round(math.cos(math.radians(90)),2))\n",
    "print (math.tan(math.radians(90)))\n",
    "print(math.pow(5,8))\n",
    "print(math.sqrt(400))\n",
    "print(math.floor(23.56))\n",
    "print(math.ceil(23.56))\n"
   ]
  },
  {
   "cell_type": "code",
   "execution_count": null,
   "metadata": {},
   "outputs": [],
   "source": []
  }
 ],
 "metadata": {
  "kernelspec": {
   "display_name": "Python 3",
   "language": "python",
   "name": "python3"
  },
  "language_info": {
   "codemirror_mode": {
    "name": "ipython",
    "version": 3
   },
   "file_extension": ".py",
   "mimetype": "text/x-python",
   "name": "python",
   "nbconvert_exporter": "python",
   "pygments_lexer": "ipython3",
   "version": "3.7.6"
  }
 },
 "nbformat": 4,
 "nbformat_minor": 4
}
