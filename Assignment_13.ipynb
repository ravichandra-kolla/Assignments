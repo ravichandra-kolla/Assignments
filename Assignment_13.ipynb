{
  "nbformat": 4,
  "nbformat_minor": 0,
  "metadata": {
    "colab": {
      "name": "Assignment 13.ipynb",
      "provenance": []
    },
    "kernelspec": {
      "name": "python3",
      "display_name": "Python 3"
    }
  },
  "cells": [
    {
      "cell_type": "markdown",
      "metadata": {
        "id": "7d-32HEdjybu",
        "colab_type": "text"
      },
      "source": [
        "# Assignment 13"
      ]
    },
    {
      "cell_type": "markdown",
      "metadata": {
        "id": "YA2l2Y_lmH_w",
        "colab_type": "text"
      },
      "source": [
        "## 1.Checking whether a string is stars with specified character"
      ]
    },
    {
      "cell_type": "code",
      "metadata": {
        "id": "tmmA2dOFj46f",
        "colab_type": "code",
        "colab": {
          "base_uri": "https://localhost:8080/",
          "height": 54
        },
        "outputId": "9bde0eb8-24c6-4892-c291-6f1fb4c399ba"
      },
      "source": [
        "a=input('enter the string')\n",
        "if a.lower().startswith('a'):\n",
        "  print('the string stars with : a ')"
      ],
      "execution_count": 3,
      "outputs": [
        {
          "output_type": "stream",
          "text": [
            "enter the stringanandh\n",
            "the string stars with : a \n"
          ],
          "name": "stdout"
        }
      ]
    },
    {
      "cell_type": "markdown",
      "metadata": {
        "id": "32tlc9NUpkqP",
        "colab_type": "text"
      },
      "source": [
        "## 2.Index of the charactor in the string"
      ]
    },
    {
      "cell_type": "code",
      "metadata": {
        "id": "ur4yLmjmpKpC",
        "colab_type": "code",
        "colab": {
          "base_uri": "https://localhost:8080/",
          "height": 54
        },
        "outputId": "463fa7bd-a44e-450b-a565-963702b85d31"
      },
      "source": [
        "i=a.index('a')\n",
        "i1=a.index('a',1)\n",
        "print(i)\n",
        "print(i1)"
      ],
      "execution_count": 5,
      "outputs": [
        {
          "output_type": "stream",
          "text": [
            "0\n",
            "2\n"
          ],
          "name": "stdout"
        }
      ]
    },
    {
      "cell_type": "markdown",
      "metadata": {
        "id": "wWTy7ADnqIyq",
        "colab_type": "text"
      },
      "source": [
        "## 3.Iterate over the dictionary using for loop"
      ]
    },
    {
      "cell_type": "code",
      "metadata": {
        "id": "X07aVfLhp4jU",
        "colab_type": "code",
        "colab": {
          "base_uri": "https://localhost:8080/",
          "height": 35
        },
        "outputId": "f8e3e475-839a-4fb5-c035-e5bb956e81c1"
      },
      "source": [
        "n={'a':1,'b':2,'c':4,'d':5}\n",
        "for i,j in n.items():\n",
        "  print(i,':',j,end=',')\n"
      ],
      "execution_count": 8,
      "outputs": [
        {
          "output_type": "stream",
          "text": [
            "a : 1,b : 2,c : 4,d : 5,"
          ],
          "name": "stdout"
        }
      ]
    },
    {
      "cell_type": "markdown",
      "metadata": {
        "id": "8y6qp_vsr8-u",
        "colab_type": "text"
      },
      "source": [
        "## 4.Removing keys from a dictionary"
      ]
    },
    {
      "cell_type": "code",
      "metadata": {
        "id": "3iJILBJBrmG6",
        "colab_type": "code",
        "colab": {
          "base_uri": "https://localhost:8080/",
          "height": 54
        },
        "outputId": "c4956cc6-28ea-44a3-d86d-9b75183635bb"
      },
      "source": [
        "d={'a':4,'b':1,'c':3,'d':5,'e':0}\n",
        "print(d)\n",
        "del d['e']  #d.pop('e')\n",
        "print(d)"
      ],
      "execution_count": 11,
      "outputs": [
        {
          "output_type": "stream",
          "text": [
            "{'a': 4, 'b': 1, 'c': 3, 'd': 5, 'e': 0}\n",
            "{'a': 4, 'b': 1, 'c': 3, 'd': 5}\n"
          ],
          "name": "stdout"
        }
      ]
    }
  ]
}