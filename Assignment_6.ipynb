{
  "nbformat": 4,
  "nbformat_minor": 0,
  "metadata": {
    "colab": {
      "name": "Assignment 6",
      "provenance": []
    },
    "kernelspec": {
      "name": "python3",
      "display_name": "Python 3"
    }
  },
  "cells": [
    {
      "cell_type": "markdown",
      "metadata": {
        "id": "B6lW22NYUuW5",
        "colab_type": "text"
      },
      "source": [
        "# Assignment 6"
      ]
    },
    {
      "cell_type": "markdown",
      "metadata": {
        "id": "c4FvS9GYU1C2",
        "colab_type": "text"
      },
      "source": [
        "## 1.Binary number to Decimal"
      ]
    },
    {
      "cell_type": "code",
      "metadata": {
        "id": "MdKgNhX1S8so",
        "colab_type": "code",
        "colab": {
          "base_uri": "https://localhost:8080/",
          "height": 54
        },
        "outputId": "9a19c14d-c150-4db9-f8c8-3ebd6bd9ee79"
      },
      "source": [
        "a=str(input('enter the binary code'))\n",
        "print(int(a,2))"
      ],
      "execution_count": 20,
      "outputs": [
        {
          "output_type": "stream",
          "text": [
            "enter the binary code01001\n",
            "9\n"
          ],
          "name": "stdout"
        }
      ]
    },
    {
      "cell_type": "markdown",
      "metadata": {
        "id": "8so5dii0gJ9c",
        "colab_type": "text"
      },
      "source": [
        "## 2.Fibonacci numbers"
      ]
    },
    {
      "cell_type": "code",
      "metadata": {
        "id": "HWJR_8ch4VrH",
        "colab_type": "code",
        "colab": {
          "base_uri": "https://localhost:8080/",
          "height": 54
        },
        "outputId": "c605f357-6b51-4280-8d27-bca63af1681b"
      },
      "source": [
        "a=0\n",
        "b=1\n",
        "n=int(input('enter no of elements to dislay'))\n",
        "fibo=[]\n",
        "for i in range (n):\n",
        "  fibo.append(a)\n",
        "  a,b=b,a+b\n",
        "print( fibo)\n"
      ],
      "execution_count": 21,
      "outputs": [
        {
          "output_type": "stream",
          "text": [
            "enter no of elements to dislay5\n",
            "[0, 1, 1, 2, 3]\n"
          ],
          "name": "stdout"
        }
      ]
    },
    {
      "cell_type": "markdown",
      "metadata": {
        "id": "HGTc4KWlgQMu",
        "colab_type": "text"
      },
      "source": [
        "## 3.Multiplication table"
      ]
    },
    {
      "cell_type": "code",
      "metadata": {
        "id": "I0P_Nyb9fj9I",
        "colab_type": "code",
        "colab": {
          "base_uri": "https://localhost:8080/",
          "height": 217
        },
        "outputId": "d0983a69-eee8-41fa-ed96-efbaa74a3a49"
      },
      "source": [
        "k=int(input('enter the table number'))\n",
        "a=0\n",
        "for i in range (1,11):\n",
        "  a=k*i\n",
        "  print(f'{k}*{i}={a}')\n",
        "  "
      ],
      "execution_count": 22,
      "outputs": [
        {
          "output_type": "stream",
          "text": [
            "enter the table number6\n",
            "6*1=6\n",
            "6*2=12\n",
            "6*3=18\n",
            "6*4=24\n",
            "6*5=30\n",
            "6*6=36\n",
            "6*7=42\n",
            "6*8=48\n",
            "6*9=54\n",
            "6*10=60\n"
          ],
          "name": "stdout"
        }
      ]
    },
    {
      "cell_type": "markdown",
      "metadata": {
        "id": "GLPY01rNhE5R",
        "colab_type": "text"
      },
      "source": [
        "## 4.GCD or HCF"
      ]
    },
    {
      "cell_type": "code",
      "metadata": {
        "id": "BqbigMQug_VC",
        "colab_type": "code",
        "colab": {
          "base_uri": "https://localhost:8080/",
          "height": 72
        },
        "outputId": "b4b9b1e3-1c8c-4407-e81c-2231de1e2662"
      },
      "source": [
        "a=int(input('enter the first number'))\n",
        "b=int(input('enter the second number'))\n",
        "x=min(a,b)\n",
        "for i in range(1,x+1):\n",
        "  if a%i==0 and b%i==0:\n",
        "    gcd=i\n",
        "print('the gcd of the two numbers is',gcd)"
      ],
      "execution_count": 18,
      "outputs": [
        {
          "output_type": "stream",
          "text": [
            "enter the first number12\n",
            "enter the second number24\n",
            "the gcd of the two numbers is 12\n"
          ],
          "name": "stdout"
        }
      ]
    },
    {
      "cell_type": "code",
      "metadata": {
        "id": "KqC6kXCHZKL3",
        "colab_type": "code",
        "colab": {}
      },
      "source": [
        ""
      ],
      "execution_count": null,
      "outputs": []
    }
  ]
}